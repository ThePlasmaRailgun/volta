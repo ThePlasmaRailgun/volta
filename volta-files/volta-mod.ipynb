{
 "cells": [
  {
   "cell_type": "code",
   "execution_count": 4,
   "metadata": {
    "tags": [
     "hidecode"
    ]
   },
   "outputs": [
    {
     "name": "stdout",
     "output_type": "stream",
     "text": [
      "hi\n"
     ]
    }
   ],
   "source": [
    "# Original neural-style documentation: https://github.com/jcjohnson/neural-style\n",
    "\n",
    "import subprocess, os\n",
    "\n",
    "script_style = ['th', 'neural_style_dir_rng_fix.lua']\n",
    "script_lincolor = ['python', 'Neural-Tools/linear-color-transfer.py']\n",
    "script_lum = ['python', 'Neural-Tools/lum-transfer.py']\n",
    "\n",
    "model_vgg = 'models/VGG_ILSVRC_19_layers.caffemodel'\n",
    "model_vggnorm = 'models/vgg_normalised.caffemodel'\n",
    "model_nin = 'models/nin_imagenet_conv.caffemodel'\n",
    "model_nyud = 'models/nyud-fcn32s-color-heavy.caffemodel'\n",
    "model_channelpruning = 'models/channel_pruning.caffemodel'\n",
    "\n",
    "def neural_style(style_image,\n",
    "                 content_image,\n",
    "                 image_size=None, #defaults to 512\n",
    "                 style_blend_weights=None, #defaults to equal weights\n",
    "                 gpu=None, #defaults to 0, use -1 for CPU only (why would you?)\n",
    "                 content_weight=None, #defaults to '5e0'\n",
    "                 style_weight=None, #defaults to '1e2'\n",
    "                 tv_weight=None, #defaults to 1e-3\n",
    "                 num_iterations=None, #defaults to 1000\n",
    "                 init=None, #defaults to 'random', pass 'image' to use content_image\n",
    "                 optimizer=None, #defaults to 'lbfgs', 'adam' is lower mem but worse\n",
    "                 learning_rate=None, #defaults to '1e1', for ADAM only\n",
    "                 normalize_gradients=None, #defaults to unset, good for ADAM\n",
    "                 output_image=None, #defaults to 'out.png'\n",
    "                 print_iter=None, #defaults to 50, 0 to disable\n",
    "                 save_iter=None, #defaults to 100, 0 to disable\n",
    "                 content_layers=None, #defaults to 'relu4_2'\n",
    "                 style_layers=None, #defaults to 'relu1_1,relu2_1,relu3_1,relu4_1,relu5_1'\n",
    "                 style_scale=None, #defaults to 1.0\n",
    "                 original_colors=None, #defaults to 0, 1 for original colors\n",
    "                 proto_file=None, #defaults to 'models/VGG_ILSVRC_19_layers_deploy.prototxt'\n",
    "                 model_file=None, #defaults to 'models/VGG_ILSVRC_19_layers.caffemodel'\n",
    "                 pooling=None, #default is 'max', 'avg' may or may not get better results\n",
    "                 backend=None, #default is 'nn', 'cudnn' and 'clnn' are other options\n",
    "                 cudnn_autotune=None, #default is unset, more mem but faster backend\n",
    "                 multigpu_strategy=None, #default is '', see original documentation\n",
    "                 lbfgs_num_correction=None, #default is 0, higher gets better results I think\n",
    "                 seed=None #default is -1, for random I believe\n",
    "                 ):\n",
    "    \n",
    "    arg_names = ['style_image','content_image','image_size','style_blend_weights','gpu',\n",
    "                 'content_weight','style_weight','tv_weight','num_iterations','init',\n",
    "                 'optimizer','learning_rate','normalize_gradients','output_image',\n",
    "                 'print_iter','save_iter','content_layers','style_layers','style_scale',\n",
    "                 'original_colors','proto_file','model_file','pooling','backend',\n",
    "                 'cudnn_autotune','multigpu_strategy','lbfgs_num_correction','seed']\n",
    "    \n",
    "    command = script_style.copy()\n",
    "    for arg_name in arg_names:\n",
    "        arg_val = eval(arg_name)\n",
    "        if arg_val != None:\n",
    "            arg_val = str(arg_val)\n",
    "            command.append('-' + arg_name)\n",
    "            if arg_name not in ['normalize_gradients', 'cudnn_autotune']:\n",
    "                command.append(arg_val)\n",
    "    \n",
    "    result = subprocess.run(command)\n",
    "    return result.returncode\n",
    "\n",
    "print('hi')"
   ]
  },
  {
   "cell_type": "code",
   "execution_count": null,
   "metadata": {},
   "outputs": [],
   "source": []
  }
 ],
 "metadata": {
  "celltoolbar": "Tags",
  "kernelspec": {
   "display_name": "Python 3",
   "language": "python",
   "name": "python3"
  },
  "language_info": {
   "codemirror_mode": {
    "name": "ipython",
    "version": 3
   },
   "file_extension": ".py",
   "mimetype": "text/x-python",
   "name": "python",
   "nbconvert_exporter": "python",
   "pygments_lexer": "ipython3",
   "version": "3.6.7"
  }
 },
 "nbformat": 4,
 "nbformat_minor": 2
}
